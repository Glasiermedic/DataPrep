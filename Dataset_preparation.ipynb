{
  "nbformat": 4,
  "nbformat_minor": 0,
  "metadata": {
    "colab": {
      "name": "Dataset preparation",
      "version": "0.3.2",
      "provenance": [],
      "include_colab_link": true
    },
    "kernelspec": {
      "name": "python3",
      "display_name": "Python 3"
    }
  },
  "cells": [
    {
      "cell_type": "markdown",
      "metadata": {
        "id": "view-in-github",
        "colab_type": "text"
      },
      "source": [
        "<a href=\"https://colab.research.google.com/github/Glasiermedic/DataPrep/blob/master/Dataset_preparation.ipynb\" target=\"_parent\"><img src=\"https://colab.research.google.com/assets/colab-badge.svg\" alt=\"Open In Colab\"/></a>"
      ]
    },
    {
      "metadata": {
        "id": "R4Ekf7QmzgEp",
        "colab_type": "text"
      },
      "cell_type": "markdown",
      "source": [
        "Importing Needed Libraries"
      ]
    },
    {
      "metadata": {
        "id": "BI6oHIIIzNof",
        "colab_type": "code",
        "colab": {}
      },
      "cell_type": "code",
      "source": [
        "import numpy as np\n",
        "import os\n",
        "\n",
        "import pandas as pd\n",
        "import matplotlib.pyplot as plt\n",
        "import statistics\n",
        "%matplotlib inline\n",
        "\n",
        "import seaborn as sns\n",
        "import re\n",
        "\n",
        "from sklearn.model_selection import train_test_split\n",
        "from sklearn.feature_selection import VarianceThreshold"
      ],
      "execution_count": 0,
      "outputs": []
    },
    {
      "metadata": {
        "id": "1hu53qAlzlvT",
        "colab_type": "text"
      },
      "cell_type": "markdown",
      "source": [
        "Importing dataset: Student Performance"
      ]
    },
    {
      "metadata": {
        "id": "GJDw1oFUzuuU",
        "colab_type": "code",
        "colab": {}
      },
      "cell_type": "code",
      "source": [
        "std_per_raw = pd.read_csv('https://raw.githubusercontent.com/Glasiermedic/DataPrep/master/StudentsPerformance.csv', encoding='latin1')"
      ],
      "execution_count": 0,
      "outputs": []
    },
    {
      "metadata": {
        "id": "eNp90nv906gD",
        "colab_type": "text"
      },
      "cell_type": "markdown",
      "source": [
        "Examining  dataset for feature selection starts with finding out what kinds of data was collected, if there are any empty/null values entered and looking for a variable that readily answers the question.    Our question today is \"Can we used standardized testing to predict the education level of parents?\""
      ]
    },
    {
      "metadata": {
        "id": "-lZrnrPq0uRe",
        "colab_type": "code",
        "outputId": "3484ba88-c013-4628-ffd7-4a25a0db7701",
        "colab": {
          "base_uri": "https://localhost:8080/",
          "height": 297
        }
      },
      "cell_type": "code",
      "source": [
        "std_per_raw.describe()"
      ],
      "execution_count": 3,
      "outputs": [
        {
          "output_type": "execute_result",
          "data": {
            "text/html": [
              "<div>\n",
              "<style scoped>\n",
              "    .dataframe tbody tr th:only-of-type {\n",
              "        vertical-align: middle;\n",
              "    }\n",
              "\n",
              "    .dataframe tbody tr th {\n",
              "        vertical-align: top;\n",
              "    }\n",
              "\n",
              "    .dataframe thead th {\n",
              "        text-align: right;\n",
              "    }\n",
              "</style>\n",
              "<table border=\"1\" class=\"dataframe\">\n",
              "  <thead>\n",
              "    <tr style=\"text-align: right;\">\n",
              "      <th></th>\n",
              "      <th>math score</th>\n",
              "      <th>reading score</th>\n",
              "      <th>writing score</th>\n",
              "    </tr>\n",
              "  </thead>\n",
              "  <tbody>\n",
              "    <tr>\n",
              "      <th>count</th>\n",
              "      <td>1000.00000</td>\n",
              "      <td>1000.000000</td>\n",
              "      <td>1000.000000</td>\n",
              "    </tr>\n",
              "    <tr>\n",
              "      <th>mean</th>\n",
              "      <td>66.08900</td>\n",
              "      <td>69.169000</td>\n",
              "      <td>68.054000</td>\n",
              "    </tr>\n",
              "    <tr>\n",
              "      <th>std</th>\n",
              "      <td>15.16308</td>\n",
              "      <td>14.600192</td>\n",
              "      <td>15.195657</td>\n",
              "    </tr>\n",
              "    <tr>\n",
              "      <th>min</th>\n",
              "      <td>0.00000</td>\n",
              "      <td>17.000000</td>\n",
              "      <td>10.000000</td>\n",
              "    </tr>\n",
              "    <tr>\n",
              "      <th>25%</th>\n",
              "      <td>57.00000</td>\n",
              "      <td>59.000000</td>\n",
              "      <td>57.750000</td>\n",
              "    </tr>\n",
              "    <tr>\n",
              "      <th>50%</th>\n",
              "      <td>66.00000</td>\n",
              "      <td>70.000000</td>\n",
              "      <td>69.000000</td>\n",
              "    </tr>\n",
              "    <tr>\n",
              "      <th>75%</th>\n",
              "      <td>77.00000</td>\n",
              "      <td>79.000000</td>\n",
              "      <td>79.000000</td>\n",
              "    </tr>\n",
              "    <tr>\n",
              "      <th>max</th>\n",
              "      <td>100.00000</td>\n",
              "      <td>100.000000</td>\n",
              "      <td>100.000000</td>\n",
              "    </tr>\n",
              "  </tbody>\n",
              "</table>\n",
              "</div>"
            ],
            "text/plain": [
              "       math score  reading score  writing score\n",
              "count  1000.00000    1000.000000    1000.000000\n",
              "mean     66.08900      69.169000      68.054000\n",
              "std      15.16308      14.600192      15.195657\n",
              "min       0.00000      17.000000      10.000000\n",
              "25%      57.00000      59.000000      57.750000\n",
              "50%      66.00000      70.000000      69.000000\n",
              "75%      77.00000      79.000000      79.000000\n",
              "max     100.00000     100.000000     100.000000"
            ]
          },
          "metadata": {
            "tags": []
          },
          "execution_count": 3
        }
      ]
    },
    {
      "metadata": {
        "id": "GG8wGgEb03R-",
        "colab_type": "code",
        "outputId": "00813807-8f62-453f-f256-6d8a5ac0474c",
        "colab": {
          "base_uri": "https://localhost:8080/",
          "height": 238
        }
      },
      "cell_type": "code",
      "source": [
        "#provides a list of variables and their type\n",
        "\n",
        "std_per_raw.info()"
      ],
      "execution_count": 4,
      "outputs": [
        {
          "output_type": "stream",
          "text": [
            "<class 'pandas.core.frame.DataFrame'>\n",
            "RangeIndex: 1000 entries, 0 to 999\n",
            "Data columns (total 8 columns):\n",
            "gender                         1000 non-null object\n",
            "race/ethnicity                 1000 non-null object\n",
            "parental level of education    1000 non-null object\n",
            "lunch                          1000 non-null object\n",
            "test preparation course        1000 non-null object\n",
            "math score                     1000 non-null int64\n",
            "reading score                  1000 non-null int64\n",
            "writing score                  1000 non-null int64\n",
            "dtypes: int64(3), object(5)\n",
            "memory usage: 62.6+ KB\n"
          ],
          "name": "stdout"
        }
      ]
    },
    {
      "metadata": {
        "id": "P8jDXPnd12Ch",
        "colab_type": "code",
        "outputId": "582fc045-c6bd-4755-d0df-0d816aa6ec5a",
        "colab": {
          "base_uri": "https://localhost:8080/",
          "height": 170
        }
      },
      "cell_type": "code",
      "source": [
        "#provides a lists of each variable and if the variable has any na/null/empty entries\n",
        "std_per_raw.isna().any()"
      ],
      "execution_count": 5,
      "outputs": [
        {
          "output_type": "execute_result",
          "data": {
            "text/plain": [
              "gender                         False\n",
              "race/ethnicity                 False\n",
              "parental level of education    False\n",
              "lunch                          False\n",
              "test preparation course        False\n",
              "math score                     False\n",
              "reading score                  False\n",
              "writing score                  False\n",
              "dtype: bool"
            ]
          },
          "metadata": {
            "tags": []
          },
          "execution_count": 5
        }
      ]
    },
    {
      "metadata": {
        "id": "YzrcTIx218ID",
        "colab_type": "code",
        "outputId": "57743a2c-6a92-47c6-fee4-c8bf34a69c84",
        "colab": {
          "base_uri": "https://localhost:8080/",
          "height": 359
        }
      },
      "cell_type": "code",
      "source": [
        "#provides a look at the first ten entries\n",
        "std_per_raw.head(10)"
      ],
      "execution_count": 6,
      "outputs": [
        {
          "output_type": "execute_result",
          "data": {
            "text/html": [
              "<div>\n",
              "<style scoped>\n",
              "    .dataframe tbody tr th:only-of-type {\n",
              "        vertical-align: middle;\n",
              "    }\n",
              "\n",
              "    .dataframe tbody tr th {\n",
              "        vertical-align: top;\n",
              "    }\n",
              "\n",
              "    .dataframe thead th {\n",
              "        text-align: right;\n",
              "    }\n",
              "</style>\n",
              "<table border=\"1\" class=\"dataframe\">\n",
              "  <thead>\n",
              "    <tr style=\"text-align: right;\">\n",
              "      <th></th>\n",
              "      <th>gender</th>\n",
              "      <th>race/ethnicity</th>\n",
              "      <th>parental level of education</th>\n",
              "      <th>lunch</th>\n",
              "      <th>test preparation course</th>\n",
              "      <th>math score</th>\n",
              "      <th>reading score</th>\n",
              "      <th>writing score</th>\n",
              "    </tr>\n",
              "  </thead>\n",
              "  <tbody>\n",
              "    <tr>\n",
              "      <th>0</th>\n",
              "      <td>female</td>\n",
              "      <td>group B</td>\n",
              "      <td>bachelor's degree</td>\n",
              "      <td>standard</td>\n",
              "      <td>none</td>\n",
              "      <td>72</td>\n",
              "      <td>72</td>\n",
              "      <td>74</td>\n",
              "    </tr>\n",
              "    <tr>\n",
              "      <th>1</th>\n",
              "      <td>female</td>\n",
              "      <td>group C</td>\n",
              "      <td>some college</td>\n",
              "      <td>standard</td>\n",
              "      <td>completed</td>\n",
              "      <td>69</td>\n",
              "      <td>90</td>\n",
              "      <td>88</td>\n",
              "    </tr>\n",
              "    <tr>\n",
              "      <th>2</th>\n",
              "      <td>female</td>\n",
              "      <td>group B</td>\n",
              "      <td>master's degree</td>\n",
              "      <td>standard</td>\n",
              "      <td>none</td>\n",
              "      <td>90</td>\n",
              "      <td>95</td>\n",
              "      <td>93</td>\n",
              "    </tr>\n",
              "    <tr>\n",
              "      <th>3</th>\n",
              "      <td>male</td>\n",
              "      <td>group A</td>\n",
              "      <td>associate's degree</td>\n",
              "      <td>free/reduced</td>\n",
              "      <td>none</td>\n",
              "      <td>47</td>\n",
              "      <td>57</td>\n",
              "      <td>44</td>\n",
              "    </tr>\n",
              "    <tr>\n",
              "      <th>4</th>\n",
              "      <td>male</td>\n",
              "      <td>group C</td>\n",
              "      <td>some college</td>\n",
              "      <td>standard</td>\n",
              "      <td>none</td>\n",
              "      <td>76</td>\n",
              "      <td>78</td>\n",
              "      <td>75</td>\n",
              "    </tr>\n",
              "    <tr>\n",
              "      <th>5</th>\n",
              "      <td>female</td>\n",
              "      <td>group B</td>\n",
              "      <td>associate's degree</td>\n",
              "      <td>standard</td>\n",
              "      <td>none</td>\n",
              "      <td>71</td>\n",
              "      <td>83</td>\n",
              "      <td>78</td>\n",
              "    </tr>\n",
              "    <tr>\n",
              "      <th>6</th>\n",
              "      <td>female</td>\n",
              "      <td>group B</td>\n",
              "      <td>some college</td>\n",
              "      <td>standard</td>\n",
              "      <td>completed</td>\n",
              "      <td>88</td>\n",
              "      <td>95</td>\n",
              "      <td>92</td>\n",
              "    </tr>\n",
              "    <tr>\n",
              "      <th>7</th>\n",
              "      <td>male</td>\n",
              "      <td>group B</td>\n",
              "      <td>some college</td>\n",
              "      <td>free/reduced</td>\n",
              "      <td>none</td>\n",
              "      <td>40</td>\n",
              "      <td>43</td>\n",
              "      <td>39</td>\n",
              "    </tr>\n",
              "    <tr>\n",
              "      <th>8</th>\n",
              "      <td>male</td>\n",
              "      <td>group D</td>\n",
              "      <td>high school</td>\n",
              "      <td>free/reduced</td>\n",
              "      <td>completed</td>\n",
              "      <td>64</td>\n",
              "      <td>64</td>\n",
              "      <td>67</td>\n",
              "    </tr>\n",
              "    <tr>\n",
              "      <th>9</th>\n",
              "      <td>female</td>\n",
              "      <td>group B</td>\n",
              "      <td>high school</td>\n",
              "      <td>free/reduced</td>\n",
              "      <td>none</td>\n",
              "      <td>38</td>\n",
              "      <td>60</td>\n",
              "      <td>50</td>\n",
              "    </tr>\n",
              "  </tbody>\n",
              "</table>\n",
              "</div>"
            ],
            "text/plain": [
              "   gender race/ethnicity parental level of education         lunch  \\\n",
              "0  female        group B           bachelor's degree      standard   \n",
              "1  female        group C                some college      standard   \n",
              "2  female        group B             master's degree      standard   \n",
              "3    male        group A          associate's degree  free/reduced   \n",
              "4    male        group C                some college      standard   \n",
              "5  female        group B          associate's degree      standard   \n",
              "6  female        group B                some college      standard   \n",
              "7    male        group B                some college  free/reduced   \n",
              "8    male        group D                 high school  free/reduced   \n",
              "9  female        group B                 high school  free/reduced   \n",
              "\n",
              "  test preparation course  math score  reading score  writing score  \n",
              "0                    none          72             72             74  \n",
              "1               completed          69             90             88  \n",
              "2                    none          90             95             93  \n",
              "3                    none          47             57             44  \n",
              "4                    none          76             78             75  \n",
              "5                    none          71             83             78  \n",
              "6               completed          88             95             92  \n",
              "7                    none          40             43             39  \n",
              "8               completed          64             64             67  \n",
              "9                    none          38             60             50  "
            ]
          },
          "metadata": {
            "tags": []
          },
          "execution_count": 6
        }
      ]
    },
    {
      "metadata": {
        "id": "hPUrM45B_syI",
        "colab_type": "code",
        "outputId": "7ccd90ca-6385-46c2-82ca-d8d1d8f83966",
        "colab": {
          "base_uri": "https://localhost:8080/",
          "height": 85
        }
      },
      "cell_type": "code",
      "source": [
        "#provide the standard deviation of each of the numerical variables\n",
        "std_per_raw.std()"
      ],
      "execution_count": 7,
      "outputs": [
        {
          "output_type": "execute_result",
          "data": {
            "text/plain": [
              "math score       15.163080\n",
              "reading score    14.600192\n",
              "writing score    15.195657\n",
              "dtype: float64"
            ]
          },
          "metadata": {
            "tags": []
          },
          "execution_count": 7
        }
      ]
    },
    {
      "metadata": {
        "id": "UQ_bMem0-BEA",
        "colab_type": "code",
        "outputId": "476917f9-9008-43b6-d462-fb02eea773cb",
        "colab": {
          "base_uri": "https://localhost:8080/",
          "height": 85
        }
      },
      "cell_type": "code",
      "source": [
        "#provide the variance for numerical variables\n",
        "std_per_raw.var()"
      ],
      "execution_count": 8,
      "outputs": [
        {
          "output_type": "execute_result",
          "data": {
            "text/plain": [
              "math score       229.918998\n",
              "reading score    213.165605\n",
              "writing score    230.907992\n",
              "dtype: float64"
            ]
          },
          "metadata": {
            "tags": []
          },
          "execution_count": 8
        }
      ]
    },
    {
      "metadata": {
        "id": "tF8Hr7XI3SO2",
        "colab_type": "code",
        "outputId": "7dec573b-2275-488e-be5a-23f78a3926f4",
        "colab": {
          "base_uri": "https://localhost:8080/",
          "height": 68
        }
      },
      "cell_type": "code",
      "source": [
        "#Examining the potential outcomes for parental education\n",
        "std_per_raw['parental level of education'].unique()\n"
      ],
      "execution_count": 9,
      "outputs": [
        {
          "output_type": "execute_result",
          "data": {
            "text/plain": [
              "array([\"bachelor's degree\", 'some college', \"master's degree\",\n",
              "       \"associate's degree\", 'high school', 'some high school'],\n",
              "      dtype=object)"
            ]
          },
          "metadata": {
            "tags": []
          },
          "execution_count": 9
        }
      ]
    },
    {
      "metadata": {
        "id": "nMh_y7Nw4O78",
        "colab_type": "text"
      },
      "cell_type": "markdown",
      "source": [
        "Based on the data set we can use the \"parental level of education\" as our outcome.  We can use \"math score\", \"reading score\" and \"writing score\" along with \"race/ethnicity\" as our features.  We will create a \"combined_score\", \"language score\", \"prepared_math\",\"prepared_reading\",\"prepared_writing, \"prepared_language\", prepared_combined\" "
      ]
    },
    {
      "metadata": {
        "id": "NnRF8TA9ATdA",
        "colab_type": "code",
        "colab": {}
      },
      "cell_type": "code",
      "source": [
        "#change parental level of education to a category rather than an object variable type and test for various feature qualities\n",
        "std_per_raw[\"parental level of education\"] = std_per_raw[\"parental level of education\"].astype('category')\n",
        "#test= (std_per_raw['test preparation course']=='completed').astype('int')\n",
        "#print(test.head(10))"
      ],
      "execution_count": 0,
      "outputs": []
    },
    {
      "metadata": {
        "id": "BkgrHVYK3l1E",
        "colab_type": "code",
        "colab": {}
      },
      "cell_type": "code",
      "source": [
        "# creating the combined score for all tests and then a prepared score variable for each type of test \n",
        "# for each type of test\n",
        "std_per_raw['combined_score']=std_per_raw['math score']\\\n",
        "+ std_per_raw['reading score'] + std_per_raw['writing score']\n",
        "std_per_raw['prepared_math']= std_per_raw['math score']/100 + \\\n",
        "(std_per_raw['test preparation course']=='completed').astype('int')\n",
        "std_per_raw['prepared_read'] = std_per_raw['reading score']/100 + \\\n",
        "(std_per_raw['test preparation course']=='completed').astype('int')\n",
        "std_per_raw['prepared_writing'] = std_per_raw['writing score']/100 + \\\n",
        "(std_per_raw['test preparation course']=='completed').astype('int')"
      ],
      "execution_count": 0,
      "outputs": []
    },
    {
      "metadata": {
        "id": "Ht-yWMC2GpWC",
        "colab_type": "code",
        "colab": {}
      },
      "cell_type": "code",
      "source": [
        "#creating the combined score for writing and reading and labeling it language score\n",
        "std_per_raw['language score'] = std_per_raw['reading score']\\\n",
        "+ std_per_raw['writing score']"
      ],
      "execution_count": 0,
      "outputs": []
    },
    {
      "metadata": {
        "id": "P2WJwH_2G14r",
        "colab_type": "code",
        "colab": {}
      },
      "cell_type": "code",
      "source": [
        "#creating the average of math writing and reading scores\n",
        "std_per_raw['averaged_scores'] = (std_per_raw['math score'] \\\n",
        "+ std_per_raw['reading score'] + std_per_raw['writing score']) / 3\n",
        "#std_per_raw['averaged_scores'].head(10)"
      ],
      "execution_count": 0,
      "outputs": []
    },
    {
      "metadata": {
        "id": "DwPW4bdnMl5o",
        "colab_type": "code",
        "colab": {}
      },
      "cell_type": "code",
      "source": [
        "#creating the average language scores\n",
        "std_per_raw['averaged_language'] = (std_per_raw['reading score']\\\n",
        "+ std_per_raw['writing score']) / 2\n",
        "#std_per_raw['averaged_language'].head(10)"
      ],
      "execution_count": 0,
      "outputs": []
    },
    {
      "metadata": {
        "id": "DdVwaNONQXPX",
        "colab_type": "code",
        "colab": {}
      },
      "cell_type": "code",
      "source": [
        "#std_per_raw.describe()"
      ],
      "execution_count": 0,
      "outputs": []
    },
    {
      "metadata": {
        "id": "C_1I1_4O3n8o",
        "colab_type": "text"
      },
      "cell_type": "markdown",
      "source": [
        "#### creating the \"relative_reading\" and \"relative_writing\" variables by fitting them to the lowest and highest scores recorded/possible.  \n",
        "#### original scores x1 and x2 should become y1 and y2.  x1=max and x2=min  \n",
        "#### y1=new max and y2 =new min  \n",
        "\n",
        "###formula for linear scaling :\n",
        "####y1 + ((y2-y1)/(x2-x1))(X-x1)\n"
      ]
    },
    {
      "metadata": {
        "id": "4KPrYXPu4CNz",
        "colab_type": "code",
        "colab": {}
      },
      "cell_type": "code",
      "source": [
        "# creating a function to transform a variable in a database so it fits in a range of values\n",
        "def lin_scl_min_max(db,variable,new_min,new_max):\n",
        "  db['scaled {}'.format(variable)] = new_max + ((new_min-new_max)/ \\\n",
        "  (db['{}'.format(variable)].min()-db['{}'.format(variable)].max()))* \\\n",
        "  (db['{}'.format(variable)]-db['{}'.format(variable)].max())\n",
        "  \n",
        " "
      ],
      "execution_count": 0,
      "outputs": []
    },
    {
      "metadata": {
        "colab_type": "code",
        "id": "ijAdWc0eBKuy",
        "colab": {}
      },
      "cell_type": "code",
      "source": [
        "#creating the scaled variables for reading and writing\n",
        "lin_scl_min_max(std_per_raw,'reading score',0,100)\n",
        "lin_scl_min_max(std_per_raw,'writing score',0,100)"
      ],
      "execution_count": 0,
      "outputs": []
    },
    {
      "metadata": {
        "id": "6pFC99fI7qst",
        "colab_type": "code",
        "colab": {}
      },
      "cell_type": "code",
      "source": [
        "#creating the percentile ranking for math reading and writing\n",
        "std_per_raw['Percentile_math']=std_per_raw['math score'].rank(pct=True)\n",
        "std_per_raw['Percentile_reading']=std_per_raw['reading score'].rank(pct=True)\n",
        "std_per_raw['Percentile_writing']=std_per_raw['writing score'].rank(pct=True)"
      ],
      "execution_count": 0,
      "outputs": []
    },
    {
      "metadata": {
        "id": "_w-Ng8mJ8T25",
        "colab_type": "code",
        "colab": {}
      },
      "cell_type": "code",
      "source": [
        "#std_per_raw.head(10)"
      ],
      "execution_count": 0,
      "outputs": []
    },
    {
      "metadata": {
        "id": "mm6wxubdExWD",
        "colab_type": "text"
      },
      "cell_type": "markdown",
      "source": [
        "### Now we are going to select the features that will give us the best results in our machine learning model. Since we are interested in correlations between features we need to remove all variables that are not numerical. Then we need to create a training and testing set of data from the master data set. \n"
      ]
    },
    {
      "metadata": {
        "id": "y4df80KRFvHw",
        "colab_type": "code",
        "colab": {}
      },
      "cell_type": "code",
      "source": [
        "num_colums = ['int16', 'int32', 'int64', 'float16', 'float32', 'float64', 'category']  \n",
        "numerical_columns = list(std_per_raw.select_dtypes(include=num_colums).columns)  \n",
        "std_per_num = std_per_raw[numerical_columns] \n",
        "\n",
        "features = std_per_num.columns"
      ],
      "execution_count": 0,
      "outputs": []
    },
    {
      "metadata": {
        "id": "3UPBpe0lGDf-",
        "colab_type": "code",
        "outputId": "a39932a1-f06f-4c31-ac64-fa0d8c020e21",
        "colab": {
          "base_uri": "https://localhost:8080/",
          "height": 119
        }
      },
      "cell_type": "code",
      "source": [
        "features\n",
        "#std_per_num.head()"
      ],
      "execution_count": 21,
      "outputs": [
        {
          "output_type": "execute_result",
          "data": {
            "text/plain": [
              "Index(['parental level of education', 'math score', 'reading score',\n",
              "       'writing score', 'combined_score', 'prepared_math', 'prepared_read',\n",
              "       'prepared_writing', 'language score', 'averaged_scores',\n",
              "       'averaged_language', 'scaled reading score', 'scaled writing score',\n",
              "       'Percentile_math', 'Percentile_reading', 'Percentile_writing'],\n",
              "      dtype='object')"
            ]
          },
          "metadata": {
            "tags": []
          },
          "execution_count": 21
        }
      ]
    },
    {
      "metadata": {
        "id": "Tk3TVXU6NDMF",
        "colab_type": "code",
        "colab": {}
      },
      "cell_type": "code",
      "source": [
        "X = std_per_num.drop(labels=['parental level of education'],axis =1)\n",
        "y = std_per_num['parental level of education']"
      ],
      "execution_count": 0,
      "outputs": []
    },
    {
      "metadata": {
        "id": "eRgAjfLTNgc8",
        "colab_type": "text"
      },
      "cell_type": "markdown",
      "source": [
        "Creating the training and test data for our feature filtering method, with training taking on "
      ]
    },
    {
      "metadata": {
        "id": "z-F9twx5GGQ2",
        "colab_type": "code",
        "colab": {}
      },
      "cell_type": "code",
      "source": [
        "X_train, X_test, y_train, y_test = train_test_split(\n",
        "    X,\n",
        "    y,\n",
        "    test_size=0.2,\n",
        "    random_state=1)"
      ],
      "execution_count": 0,
      "outputs": []
    },
    {
      "metadata": {
        "id": "hcYQ7puf_DvS",
        "colab_type": "text"
      },
      "cell_type": "markdown",
      "source": [
        "#### Now we can look at all the features that are not constant  and are more useful for our purposes. "
      ]
    },
    {
      "metadata": {
        "id": "4g0pz807-n1_",
        "colab_type": "code",
        "colab": {
          "base_uri": "https://localhost:8080/",
          "height": 34
        },
        "outputId": "a139ec39-d56c-48d0-8075-36dabbd8f319"
      },
      "cell_type": "code",
      "source": [
        "constant_filter = VarianceThreshold(threshold=0)\n",
        "\n",
        "constant_filter.fit(X_train)  \n",
        "\n",
        "print(\"Number of features that are not constant: {}\".format(len(X_train.columns[constant_filter.get_support()])))"
      ],
      "execution_count": 24,
      "outputs": [
        {
          "output_type": "stream",
          "text": [
            "Number of features that are not constant: 15\n"
          ],
          "name": "stdout"
        }
      ]
    },
    {
      "metadata": {
        "id": "dPCU1LaE_n9i",
        "colab_type": "text"
      },
      "cell_type": "markdown",
      "source": [
        "#### Now we will look at what features are constant and less useful for us to use for our algorhythms. "
      ]
    },
    {
      "metadata": {
        "id": "5ed5s26v_BGm",
        "colab_type": "code",
        "colab": {
          "base_uri": "https://localhost:8080/",
          "height": 34
        },
        "outputId": "8f4e8cfd-99c1-4b55-f9b1-83f464cc6fe0"
      },
      "cell_type": "code",
      "source": [
        "constant_columns = [column for column in X_train.columns  \n",
        "                    if column not in X_train.columns[constant_filter.get_support()]]\n",
        "\n",
        "print(\"Number of features that are constant: {}\".format(len(constant_columns)))"
      ],
      "execution_count": 25,
      "outputs": [
        {
          "output_type": "stream",
          "text": [
            "Number of features that are constant: 0\n"
          ],
          "name": "stdout"
        }
      ]
    },
    {
      "metadata": {
        "id": "aBEpHNvyCXMI",
        "colab_type": "text"
      },
      "cell_type": "markdown",
      "source": [
        "#### For the sake of defining a process of utilizing a filter method I am including the step to transform the dataset using our contant filter.  "
      ]
    },
    {
      "metadata": {
        "id": "YATURlr7A2Cj",
        "colab_type": "code",
        "colab": {
          "base_uri": "https://localhost:8080/",
          "height": 34
        },
        "outputId": "f7350388-78c5-4cf0-a152-781192cf947c"
      },
      "cell_type": "code",
      "source": [
        "#X_train = constant_filter.transform(X_train)  \n",
        "#X_test = constant_filter.transform(X_test)\n",
        "\n",
        "print(\"the dimensions of the training and test data sets respectively: {}{}\".format(X_train.shape, X_test.shape))"
      ],
      "execution_count": 26,
      "outputs": [
        {
          "output_type": "stream",
          "text": [
            "the dimensions of the training and test data sets respectively: (800, 15)(200, 15)\n"
          ],
          "name": "stdout"
        }
      ]
    },
    {
      "metadata": {
        "id": "sxtjGebhDtiB",
        "colab_type": "text"
      },
      "cell_type": "markdown",
      "source": [
        "####Now we will determine how many features are correlated and decide if we can remove any of them.  First we create the correlation matrix and then we will loop through the matrix adding columns with a correlation above .98 to our correlated_features set.  "
      ]
    },
    {
      "metadata": {
        "id": "GnMUPyY7CIwI",
        "colab_type": "code",
        "colab": {
          "base_uri": "https://localhost:8080/",
          "height": 71
        },
        "outputId": "57ecd4cb-b7b7-4920-ed4c-3a6deb09ee52"
      },
      "cell_type": "code",
      "source": [
        "correlated_features = set()  \n",
        "correlation_matrix = std_per_raw.corr()\n",
        "\n",
        "for i in range(len(correlation_matrix .columns)):  \n",
        "    for j in range(i):\n",
        "        if abs(correlation_matrix.iloc[i, j]) > 0.972 and i!= j:\n",
        "            colname = correlation_matrix.columns[i]\n",
        "            correlated_features.add(colname)\n",
        "#print(correlation_matrix)\n",
        "print(correlated_features) \n",
        "print(len(correlated_features))"
      ],
      "execution_count": 27,
      "outputs": [
        {
          "output_type": "stream",
          "text": [
            "{'Percentile_reading', 'prepared_writing', 'Percentile_math', 'language score', 'scaled writing score', 'prepared_read', 'Percentile_writing', 'averaged_scores', 'scaled reading score', 'averaged_language'}\n",
            "10\n"
          ],
          "name": "stdout"
        }
      ]
    },
    {
      "metadata": {
        "id": "eILEWypZJlNm",
        "colab_type": "text"
      },
      "cell_type": "markdown",
      "source": [
        "#### After examining the results of the correlation filter we can see that ten of our features are highly correlated to at least one other feature and could be removed to help our model work more effectively.   This leaves just five features for us to use for our model. "
      ]
    },
    {
      "metadata": {
        "id": "XtGIBCpyEiiw",
        "colab_type": "code",
        "colab": {
          "base_uri": "https://localhost:8080/",
          "height": 187
        },
        "outputId": "f10b686b-efcf-4459-d6da-1945d9d5670d"
      },
      "cell_type": "code",
      "source": [
        "X_train.drop(labels=correlated_features, axis=1, inplace=True)  \n",
        "X_test.drop(labels=correlated_features, axis=1, inplace=True)"
      ],
      "execution_count": 28,
      "outputs": [
        {
          "output_type": "stream",
          "text": [
            "/usr/local/lib/python3.6/dist-packages/ipykernel_launcher.py:1: SettingWithCopyWarning: \n",
            "A value is trying to be set on a copy of a slice from a DataFrame\n",
            "\n",
            "See the caveats in the documentation: http://pandas.pydata.org/pandas-docs/stable/indexing.html#indexing-view-versus-copy\n",
            "  \"\"\"Entry point for launching an IPython kernel.\n",
            "/usr/local/lib/python3.6/dist-packages/ipykernel_launcher.py:2: SettingWithCopyWarning: \n",
            "A value is trying to be set on a copy of a slice from a DataFrame\n",
            "\n",
            "See the caveats in the documentation: http://pandas.pydata.org/pandas-docs/stable/indexing.html#indexing-view-versus-copy\n",
            "  \n"
          ],
          "name": "stderr"
        }
      ]
    },
    {
      "metadata": {
        "id": "b9ngUDE_T5zV",
        "colab_type": "text"
      },
      "cell_type": "markdown",
      "source": [
        "###Our prepared training and test set\n",
        "####We have filtered our dataset down to five features that are the least correlated and have enough variance to produce good results.  "
      ]
    },
    {
      "metadata": {
        "id": "7pgkBia6TEyr",
        "colab_type": "code",
        "colab": {
          "base_uri": "https://localhost:8080/",
          "height": 359
        },
        "outputId": "1cd25d86-7b21-4cbb-cc3a-dd923c44c7b9"
      },
      "cell_type": "code",
      "source": [
        "X_train.head(10)"
      ],
      "execution_count": 29,
      "outputs": [
        {
          "output_type": "execute_result",
          "data": {
            "text/html": [
              "<div>\n",
              "<style scoped>\n",
              "    .dataframe tbody tr th:only-of-type {\n",
              "        vertical-align: middle;\n",
              "    }\n",
              "\n",
              "    .dataframe tbody tr th {\n",
              "        vertical-align: top;\n",
              "    }\n",
              "\n",
              "    .dataframe thead th {\n",
              "        text-align: right;\n",
              "    }\n",
              "</style>\n",
              "<table border=\"1\" class=\"dataframe\">\n",
              "  <thead>\n",
              "    <tr style=\"text-align: right;\">\n",
              "      <th></th>\n",
              "      <th>math score</th>\n",
              "      <th>reading score</th>\n",
              "      <th>writing score</th>\n",
              "      <th>combined_score</th>\n",
              "      <th>prepared_math</th>\n",
              "    </tr>\n",
              "  </thead>\n",
              "  <tbody>\n",
              "    <tr>\n",
              "      <th>382</th>\n",
              "      <td>79</td>\n",
              "      <td>81</td>\n",
              "      <td>71</td>\n",
              "      <td>231</td>\n",
              "      <td>0.79</td>\n",
              "    </tr>\n",
              "    <tr>\n",
              "      <th>994</th>\n",
              "      <td>63</td>\n",
              "      <td>63</td>\n",
              "      <td>62</td>\n",
              "      <td>188</td>\n",
              "      <td>0.63</td>\n",
              "    </tr>\n",
              "    <tr>\n",
              "      <th>982</th>\n",
              "      <td>79</td>\n",
              "      <td>85</td>\n",
              "      <td>86</td>\n",
              "      <td>250</td>\n",
              "      <td>1.79</td>\n",
              "    </tr>\n",
              "    <tr>\n",
              "      <th>47</th>\n",
              "      <td>66</td>\n",
              "      <td>71</td>\n",
              "      <td>76</td>\n",
              "      <td>213</td>\n",
              "      <td>0.66</td>\n",
              "    </tr>\n",
              "    <tr>\n",
              "      <th>521</th>\n",
              "      <td>91</td>\n",
              "      <td>86</td>\n",
              "      <td>84</td>\n",
              "      <td>261</td>\n",
              "      <td>0.91</td>\n",
              "    </tr>\n",
              "    <tr>\n",
              "      <th>636</th>\n",
              "      <td>67</td>\n",
              "      <td>80</td>\n",
              "      <td>81</td>\n",
              "      <td>228</td>\n",
              "      <td>1.67</td>\n",
              "    </tr>\n",
              "    <tr>\n",
              "      <th>19</th>\n",
              "      <td>54</td>\n",
              "      <td>58</td>\n",
              "      <td>61</td>\n",
              "      <td>173</td>\n",
              "      <td>0.54</td>\n",
              "    </tr>\n",
              "    <tr>\n",
              "      <th>366</th>\n",
              "      <td>69</td>\n",
              "      <td>58</td>\n",
              "      <td>53</td>\n",
              "      <td>180</td>\n",
              "      <td>1.69</td>\n",
              "    </tr>\n",
              "    <tr>\n",
              "      <th>340</th>\n",
              "      <td>58</td>\n",
              "      <td>61</td>\n",
              "      <td>52</td>\n",
              "      <td>171</td>\n",
              "      <td>0.58</td>\n",
              "    </tr>\n",
              "    <tr>\n",
              "      <th>952</th>\n",
              "      <td>74</td>\n",
              "      <td>74</td>\n",
              "      <td>72</td>\n",
              "      <td>220</td>\n",
              "      <td>0.74</td>\n",
              "    </tr>\n",
              "  </tbody>\n",
              "</table>\n",
              "</div>"
            ],
            "text/plain": [
              "     math score  reading score  writing score  combined_score  prepared_math\n",
              "382          79             81             71             231           0.79\n",
              "994          63             63             62             188           0.63\n",
              "982          79             85             86             250           1.79\n",
              "47           66             71             76             213           0.66\n",
              "521          91             86             84             261           0.91\n",
              "636          67             80             81             228           1.67\n",
              "19           54             58             61             173           0.54\n",
              "366          69             58             53             180           1.69\n",
              "340          58             61             52             171           0.58\n",
              "952          74             74             72             220           0.74"
            ]
          },
          "metadata": {
            "tags": []
          },
          "execution_count": 29
        }
      ]
    },
    {
      "metadata": {
        "id": "LwxQ_gB3T2F0",
        "colab_type": "code",
        "colab": {}
      },
      "cell_type": "code",
      "source": [
        ""
      ],
      "execution_count": 0,
      "outputs": []
    }
  ]
}