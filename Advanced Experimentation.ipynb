{
  "nbformat": 4,
  "nbformat_minor": 0,
  "metadata": {
    "colab": {
      "name": "Untitled22.ipynb",
      "provenance": [],
      "include_colab_link": true
    },
    "kernelspec": {
      "name": "python3",
      "display_name": "Python 3"
    }
  },
  "cells": [
    {
      "cell_type": "markdown",
      "metadata": {
        "id": "view-in-github",
        "colab_type": "text"
      },
      "source": [
        "<a href=\"https://colab.research.google.com/github/Glasiermedic/DataPrep/blob/master/Advanced%20Experimentation.ipynb\" target=\"_parent\"><img src=\"https://colab.research.google.com/assets/colab-badge.svg\" alt=\"Open In Colab\"/></a>"
      ]
    },
    {
      "cell_type": "code",
      "metadata": {
        "id": "66MMr--hRiI5",
        "colab_type": "code",
        "colab": {}
      },
      "source": [
        "import pandas as pd\n",
        "import numpy as np\n",
        "import matplotlib.pyplot as plt\n",
        "import scipy.stats as stats\n",
        "%matplotlib inline"
      ],
      "execution_count": 0,
      "outputs": []
    },
    {
      "cell_type": "code",
      "metadata": {
        "id": "wFlvlPi7Rlbm",
        "colab_type": "code",
        "colab": {}
      },
      "source": [
        "country_rate = pd.read_csv(\"https://raw.githubusercontent.com/Thinkful-Ed/data-201-resources/master/ESS_practice_data/ESSdata_Thinkful.csv\")"
      ],
      "execution_count": 0,
      "outputs": []
    },
    {
      "cell_type": "code",
      "metadata": {
        "id": "0ipzs04aRwsM",
        "colab_type": "code",
        "outputId": "8a69883c-399e-4b02-b81d-70f8fd64e39e",
        "colab": {
          "base_uri": "https://localhost:8080/",
          "height": 204
        }
      },
      "source": [
        "country_rate.head()"
      ],
      "execution_count": 3,
      "outputs": [
        {
          "output_type": "execute_result",
          "data": {
            "text/html": [
              "<div>\n",
              "<style scoped>\n",
              "    .dataframe tbody tr th:only-of-type {\n",
              "        vertical-align: middle;\n",
              "    }\n",
              "\n",
              "    .dataframe tbody tr th {\n",
              "        vertical-align: top;\n",
              "    }\n",
              "\n",
              "    .dataframe thead th {\n",
              "        text-align: right;\n",
              "    }\n",
              "</style>\n",
              "<table border=\"1\" class=\"dataframe\">\n",
              "  <thead>\n",
              "    <tr style=\"text-align: right;\">\n",
              "      <th></th>\n",
              "      <th>cntry</th>\n",
              "      <th>idno</th>\n",
              "      <th>year</th>\n",
              "      <th>tvtot</th>\n",
              "      <th>ppltrst</th>\n",
              "      <th>pplfair</th>\n",
              "      <th>pplhlp</th>\n",
              "      <th>happy</th>\n",
              "      <th>sclmeet</th>\n",
              "      <th>sclact</th>\n",
              "      <th>gndr</th>\n",
              "      <th>agea</th>\n",
              "      <th>partner</th>\n",
              "    </tr>\n",
              "  </thead>\n",
              "  <tbody>\n",
              "    <tr>\n",
              "      <th>0</th>\n",
              "      <td>CH</td>\n",
              "      <td>5.0</td>\n",
              "      <td>6</td>\n",
              "      <td>3.0</td>\n",
              "      <td>3.0</td>\n",
              "      <td>10.0</td>\n",
              "      <td>5.0</td>\n",
              "      <td>8.0</td>\n",
              "      <td>5.0</td>\n",
              "      <td>4.0</td>\n",
              "      <td>2.0</td>\n",
              "      <td>60.0</td>\n",
              "      <td>1.0</td>\n",
              "    </tr>\n",
              "    <tr>\n",
              "      <th>1</th>\n",
              "      <td>CH</td>\n",
              "      <td>25.0</td>\n",
              "      <td>6</td>\n",
              "      <td>6.0</td>\n",
              "      <td>5.0</td>\n",
              "      <td>7.0</td>\n",
              "      <td>5.0</td>\n",
              "      <td>9.0</td>\n",
              "      <td>3.0</td>\n",
              "      <td>2.0</td>\n",
              "      <td>2.0</td>\n",
              "      <td>59.0</td>\n",
              "      <td>1.0</td>\n",
              "    </tr>\n",
              "    <tr>\n",
              "      <th>2</th>\n",
              "      <td>CH</td>\n",
              "      <td>26.0</td>\n",
              "      <td>6</td>\n",
              "      <td>1.0</td>\n",
              "      <td>8.0</td>\n",
              "      <td>8.0</td>\n",
              "      <td>8.0</td>\n",
              "      <td>7.0</td>\n",
              "      <td>6.0</td>\n",
              "      <td>3.0</td>\n",
              "      <td>1.0</td>\n",
              "      <td>24.0</td>\n",
              "      <td>2.0</td>\n",
              "    </tr>\n",
              "    <tr>\n",
              "      <th>3</th>\n",
              "      <td>CH</td>\n",
              "      <td>28.0</td>\n",
              "      <td>6</td>\n",
              "      <td>4.0</td>\n",
              "      <td>6.0</td>\n",
              "      <td>6.0</td>\n",
              "      <td>7.0</td>\n",
              "      <td>10.0</td>\n",
              "      <td>6.0</td>\n",
              "      <td>2.0</td>\n",
              "      <td>2.0</td>\n",
              "      <td>64.0</td>\n",
              "      <td>1.0</td>\n",
              "    </tr>\n",
              "    <tr>\n",
              "      <th>4</th>\n",
              "      <td>CH</td>\n",
              "      <td>29.0</td>\n",
              "      <td>6</td>\n",
              "      <td>5.0</td>\n",
              "      <td>6.0</td>\n",
              "      <td>7.0</td>\n",
              "      <td>5.0</td>\n",
              "      <td>8.0</td>\n",
              "      <td>7.0</td>\n",
              "      <td>2.0</td>\n",
              "      <td>2.0</td>\n",
              "      <td>55.0</td>\n",
              "      <td>1.0</td>\n",
              "    </tr>\n",
              "  </tbody>\n",
              "</table>\n",
              "</div>"
            ],
            "text/plain": [
              "  cntry  idno  year  tvtot  ppltrst  ...  sclmeet  sclact  gndr  agea  partner\n",
              "0    CH   5.0     6    3.0      3.0  ...      5.0     4.0   2.0  60.0      1.0\n",
              "1    CH  25.0     6    6.0      5.0  ...      3.0     2.0   2.0  59.0      1.0\n",
              "2    CH  26.0     6    1.0      8.0  ...      6.0     3.0   1.0  24.0      2.0\n",
              "3    CH  28.0     6    4.0      6.0  ...      6.0     2.0   2.0  64.0      1.0\n",
              "4    CH  29.0     6    5.0      6.0  ...      7.0     2.0   2.0  55.0      1.0\n",
              "\n",
              "[5 rows x 13 columns]"
            ]
          },
          "metadata": {
            "tags": []
          },
          "execution_count": 3
        }
      ]
    },
    {
      "cell_type": "code",
      "metadata": {
        "id": "bFCGtpJ4Rza4",
        "colab_type": "code",
        "outputId": "dc1f1260-3e76-450f-e2bc-50007c2c505d",
        "colab": {
          "base_uri": "https://localhost:8080/",
          "height": 34
        }
      },
      "source": [
        "country_rate['cntry'].unique()\n"
      ],
      "execution_count": 4,
      "outputs": [
        {
          "output_type": "execute_result",
          "data": {
            "text/plain": [
              "array(['CH', 'CZ', 'DE', 'ES', 'NO', 'SE'], dtype=object)"
            ]
          },
          "metadata": {
            "tags": []
          },
          "execution_count": 4
        }
      ]
    },
    {
      "cell_type": "code",
      "metadata": {
        "id": "MHO0f9N5TcQT",
        "colab_type": "code",
        "colab": {}
      },
      "source": [
        "cntrys = country_rate.cntry.unique().tolist()"
      ],
      "execution_count": 0,
      "outputs": []
    },
    {
      "cell_type": "code",
      "metadata": {
        "id": "S5T5Y1XjSSt_",
        "colab_type": "code",
        "outputId": "543cac88-5344-4082-c498-17af4ac5232c",
        "colab": {
          "base_uri": "https://localhost:8080/",
          "height": 1000
        }
      },
      "source": [
        "for country in cntrys:\n",
        "    \n",
        "    fig, axs = plt.subplots(1, 2, figsize=(6, 3))\n",
        "\n",
        "    axs[0].hist(country_rate['ppltrst'][(country_rate['cntry'] == country) & (country_rate['year']==6)].dropna())\n",
        "    axs[1].hist(country_rate['ppltrst'][(country_rate['cntry'] == country) & (country_rate['year']==7)].dropna())\n",
        "\n",
        "    fig.text(0.5, 0, country)\n",
        "    axs[0].set_title('2012')\n",
        "    axs[1].set_title('2014')\n",
        "    \n",
        "    plt.tight_layout()\n",
        "    plt.show()\n"
      ],
      "execution_count": 6,
      "outputs": [
        {
          "output_type": "display_data",
          "data": {
            "image/png": "[encoded data removed]",
            "text/plain": [
              "<Figure size 432x216 with 2 Axes>"
            ]
          },
          "metadata": {
            "tags": []
          }
        },
        {
          "output_type": "display_data",
          "data": {
            "image/png": "[encoded data removed]",
            "text/plain": [
              "<Figure size 432x216 with 2 Axes>"
            ]
          },
          "metadata": {
            "tags": []
          }
        },
        {
          "output_type": "display_data",
          "data": {
            "image/png": "[encoded data removed]",
            "text/plain": [
              "<Figure size 432x216 with 2 Axes>"
            ]
          },
          "metadata": {
            "tags": []
          }
        },
        {
          "output_type": "display_data",
          "data": {
            "image/png": "[encoded data removed]",
            "text/plain": [
              "<Figure size 432x216 with 2 Axes>"
            ]
          },
          "metadata": {
            "tags": []
          }
        },
        {
          "output_type": "display_data",
          "data": {
            "image/png": "[encoded data removed]",
            "text/plain": [
              "<Figure size 432x216 with 2 Axes>"
            ]
          },
          "metadata": {
            "tags": []
          }
        },
        {
          "output_type": "display_data",
          "data": {
            "image/png": "[encoded data removed]",
            "text/plain": [
              "<Figure size 432x216 with 2 Axes>"
            ]
          },
          "metadata": {
            "tags": []
          }
        }
      ]
    },
    {
      "cell_type": "code",
      "metadata": {
        "id": "QFJKBducTWBp",
        "colab_type": "code",
        "outputId": "d4c26343-7766-46d5-d36b-4c6ad819833f",
        "colab": {
          "base_uri": "https://localhost:8080/",
          "height": 874
        }
      },
      "source": [
        "for country in cntrys:\n",
        "  print (\"-**-\"*20)\n",
        "  print (country)\n",
        "  print ('2012 average trust: {}'.format(country_rate['ppltrst'][(country_rate['cntry'] == country) & (country_rate['year']==6)].mean()))\n",
        "  print ('2014 average trust: {}'.format(country_rate['ppltrst'][(country_rate['cntry'] == country) & (country_rate['year'] == 7)].mean()))\n",
        "  print (stats.ttest_rel(country_rate['ppltrst'][(country_rate['cntry'] == country) & (country_rate['year']==6)], \n",
        "                          country_rate['ppltrst'][(country_rate['cntry'] == country) & (country_rate['year']==7)],\n",
        "                          nan_policy='omit'\n",
        "                         ))\n",
        "  print(\"\\n\")\n",
        "  \n",
        "  if country == 'DE': \n",
        "    print('******   ******')\n",
        "    print (\"Based on the distributions Germany' data would be better suited for a non parametric (wilcox) test\")\n",
        "    print ('2012 median of trust: {}'.format(country_rate['ppltrst'][(country_rate['cntry'] == country) & (country_rate['year']==6)].mean()))\n",
        "    print ('2014 median of trust: {}'.format(country_rate['ppltrst'][(country_rate['cntry'] == country) & (country_rate['year'] == 7)].mean()))\n",
        "    print (stats.wilcoxon(country_rate['ppltrst'][(country_rate['cntry'] == country) & (country_rate['year']==6)], \n",
        "                          country_rate['ppltrst'][(country_rate['cntry'] == country) & (country_rate['year']==7)],\n",
        "                          zero_method = 'wilcox'\n",
        "                         ))\n",
        "    print(\"\\n\")\n"
      ],
      "execution_count": 7,
      "outputs": [
        {
          "output_type": "stream",
          "text": [
            "-**--**--**--**--**--**--**--**--**--**--**--**--**--**--**--**--**--**--**--**-\n",
            "CH\n",
            "2012 average trust: 5.677878395860285\n",
            "2014 average trust: 5.751617076326003\n",
            "Ttest_relResult(statistic=-0.6586851756725737, pvalue=0.5102943511301135)\n",
            "\n",
            "\n",
            "-**--**--**--**--**--**--**--**--**--**--**--**--**--**--**--**--**--**--**--**-\n",
            "CZ\n",
            "2012 average trust: 4.362519201228879\n",
            "2014 average trust: 4.424657534246576\n",
            "Ttest_relResult(statistic=-0.5001638336887216, pvalue=0.617129268240474)\n",
            "\n",
            "\n",
            "-**--**--**--**--**--**--**--**--**--**--**--**--**--**--**--**--**--**--**--**-\n",
            "DE\n",
            "2012 average trust: 5.214285714285714\n",
            "2014 average trust: 5.357142857142857\n",
            "Ttest_relResult(statistic=-0.18399501804849683, pvalue=0.8568563797095805)\n",
            "\n",
            "\n",
            "******   ******\n",
            "Based on the distributions Germany' data would be better suited for a non parametric (wilcox) test\n",
            "2012 median of trust: 5.214285714285714\n",
            "2014 median of trust: 5.357142857142857\n",
            "WilcoxonResult(statistic=44.0, pvalue=0.9157134600899863)\n",
            "\n",
            "\n",
            "-**--**--**--**--**--**--**--**--**--**--**--**--**--**--**--**--**--**--**--**-\n",
            "ES\n",
            "2012 average trust: 5.114591920857379\n",
            "2014 average trust: 4.895127993393889\n",
            "Ttest_relResult(statistic=2.4561906976601646, pvalue=0.014181580725320284)\n",
            "\n",
            "\n",
            "-**--**--**--**--**--**--**--**--**--**--**--**--**--**--**--**--**--**--**--**-\n",
            "NO\n",
            "2012 average trust: 6.64931506849315\n",
            "2014 average trust: 6.598630136986301\n",
            "Ttest_relResult(statistic=0.5073077081124404, pvalue=0.61209257015177)\n",
            "\n",
            "\n",
            "-**--**--**--**--**--**--**--**--**--**--**--**--**--**--**--**--**--**--**--**-\n",
            "SE\n",
            "2012 average trust: 6.058498896247241\n",
            "2014 average trust: 6.257709251101321\n",
            "Ttest_relResult(statistic=-2.0671082026033982, pvalue=0.03900781670958545)\n",
            "\n",
            "\n"
          ],
          "name": "stdout"
        }
      ]
    },
    {
      "cell_type": "markdown",
      "metadata": {
        "id": "_nvLEKe_iQrP",
        "colab_type": "text"
      },
      "source": [
        "### Question 1: Did people become less trusting from 2012 to 2014?\n",
        "\n",
        "####using our t-test and wilcox tests the signifigant diferences came from Spain, Sweden and Germany. Germany is unique in that it had a very large difference and trust increased.  Germany required the wilcox test while the rest used the standard t-test to get their results. "
      ]
    },
    {
      "cell_type": "code",
      "metadata": {
        "id": "GxJWoeLZiQN2",
        "colab_type": "code",
        "colab": {}
      },
      "source": [
        ""
      ],
      "execution_count": 0,
      "outputs": []
    },
    {
      "cell_type": "code",
      "metadata": {
        "id": "LSjT5OlCW6EY",
        "colab_type": "code",
        "outputId": "b6557a1b-72bc-4f39-f1bd-f508ed7c43f7",
        "colab": {
          "base_uri": "https://localhost:8080/",
          "height": 1000
        }
      },
      "source": [
        "for country in cntrys:\n",
        "    \n",
        "    fig, axs = plt.subplots(1, 2, figsize=(6, 3))\n",
        "\n",
        "    axs[0].hist(country_rate['happy'][(country_rate['cntry'] == country) & (country_rate['year']==6)].dropna())\n",
        "    axs[1].hist(country_rate['happy'][(country_rate['cntry'] == country) & (country_rate['year']==7)].dropna())\n",
        "\n",
        "    fig.text(0.5, 0, country)\n",
        "    axs[0].set_title('2012')\n",
        "    axs[1].set_title('2014')\n",
        "    \n",
        "    plt.tight_layout()\n",
        "    plt.show()\n"
      ],
      "execution_count": 8,
      "outputs": [
        {
          "output_type": "display_data",
          "data": {
            "image/png": "[encoded data removed]",
            "text/plain": [
              "<Figure size 432x216 with 2 Axes>"
            ]
          },
          "metadata": {
            "tags": []
          }
        },
        {
          "output_type": "display_data",
          "data": {
            "image/png": "[encoded data removed]",
            "text/plain": [
              "<Figure size 432x216 with 2 Axes>"
            ]
          },
          "metadata": {
            "tags": []
          }
        },
        {
          "output_type": "display_data",
          "data": {
            "image/png": "[encoded data removed]",
            "text/plain": [
              "<Figure size 432x216 with 2 Axes>"
            ]
          },
          "metadata": {
            "tags": []
          }
        },
        {
          "output_type": "display_data",
          "data": {
            "image/png": "[encoded data removed]",
            "text/plain": [
              "<Figure size 432x216 with 2 Axes>"
            ]
          },
          "metadata": {
            "tags": []
          }
        },
        {
          "output_type": "display_data",
          "data": {
            "image/png": "[encoded data removed]",
            "text/plain": [
              "<Figure size 432x216 with 2 Axes>"
            ]
          },
          "metadata": {
            "tags": []
          }
        },
        {
          "output_type": "display_data",
          "data": {
            "image/png": "[encoded data removed]",
            "text/plain": [
              "<Figure size 432x216 with 2 Axes>"
            ]
          },
          "metadata": {
            "tags": []
          }
        }
      ]
    },
    {
      "cell_type": "code",
      "metadata": {
        "id": "zykpmZLGcaaL",
        "colab_type": "code",
        "outputId": "ee6dc337-f321-4062-a92d-d7aa6e8a19dc",
        "colab": {
          "base_uri": "https://localhost:8080/",
          "height": 822
        }
      },
      "source": [
        "for country in cntrys:\n",
        "  print (\"-**-\"*20)\n",
        "  print (country)\n",
        "  print ('2012 median of trust: {}'.format(country_rate['happy'][(country_rate['cntry'] == country) & (country_rate['year']==6)].mean()))\n",
        "  print ('2014 median of trust: {}'.format(country_rate['happy'][(country_rate['cntry'] == country) & (country_rate['year'] == 7)].mean()))\n",
        "  print (stats.wilcoxon(country_rate['happy'][(country_rate['cntry'] == country) & (country_rate['year']==6)], \n",
        "                          country_rate['happy'][(country_rate['cntry'] == country) & (country_rate['year']==7)],\n",
        "                          zero_method = 'wilcox'\n",
        "                         ))\n",
        "  print(\"\\n\")"
      ],
      "execution_count": 9,
      "outputs": [
        {
          "output_type": "stream",
          "text": [
            "-**--**--**--**--**--**--**--**--**--**--**--**--**--**--**--**--**--**--**--**-\n",
            "CH\n",
            "2012 median of trust: 8.088311688311688\n",
            "2014 median of trust: 8.116429495472186\n",
            "WilcoxonResult(statistic=92816.5, pvalue=0.8208688161425343)\n",
            "\n",
            "\n",
            "-**--**--**--**--**--**--**--**--**--**--**--**--**--**--**--**--**--**--**--**-\n",
            "CZ\n",
            "2012 median of trust: 6.7708978328173375\n",
            "2014 median of trust: 6.914110429447852\n",
            "WilcoxonResult(statistic=73213.0, pvalue=0.01064243454053068)\n",
            "\n",
            "\n",
            "-**--**--**--**--**--**--**--**--**--**--**--**--**--**--**--**--**--**--**--**-\n",
            "DE\n",
            "2012 median of trust: 7.428571428571429\n",
            "2014 median of trust: 7.857142857142857\n",
            "WilcoxonResult(statistic=23.5, pvalue=0.393351316918508)\n",
            "\n",
            "\n",
            "-**--**--**--**--**--**--**--**--**--**--**--**--**--**--**--**--**--**--**--**-\n",
            "ES\n",
            "2012 median of trust: 7.548679867986799\n",
            "2014 median of trust: 7.41996699669967\n",
            "WilcoxonResult(statistic=231958.5, pvalue=0.04923868084306013)\n",
            "\n",
            "\n",
            "-**--**--**--**--**--**--**--**--**--**--**--**--**--**--**--**--**--**--**--**-\n",
            "NO\n",
            "2012 median of trust: 8.25171939477304\n",
            "2014 median of trust: 7.9151846785225715\n",
            "WilcoxonResult(statistic=67571.5, pvalue=2.7264367804254175e-06)\n",
            "\n",
            "\n",
            "-**--**--**--**--**--**--**--**--**--**--**--**--**--**--**--**--**--**--**--**-\n",
            "SE\n",
            "2012 median of trust: 7.907386990077177\n",
            "2014 median of trust: 7.946961325966851\n",
            "WilcoxonResult(statistic=125481.0, pvalue=0.5136403441005022)\n",
            "\n",
            "\n"
          ],
          "name": "stdout"
        },
        {
          "output_type": "stream",
          "text": [
            "/usr/local/lib/python3.6/dist-packages/scipy/stats/morestats.py:2882: RuntimeWarning: invalid value encountered in greater\n",
            "  r_plus = np.sum((d > 0) * r, axis=0)\n",
            "/usr/local/lib/python3.6/dist-packages/scipy/stats/morestats.py:2883: RuntimeWarning: invalid value encountered in less\n",
            "  r_minus = np.sum((d < 0) * r, axis=0)\n"
          ],
          "name": "stderr"
        }
      ]
    },
    {
      "cell_type": "code",
      "metadata": {
        "id": "QAPdTK-a7IqO",
        "colab_type": "code",
        "outputId": "4c84341f-fb53-405e-c763-6432d24eb471",
        "colab": {
          "base_uri": "https://localhost:8080/",
          "height": 752
        }
      },
      "source": [
        "for country in cntrys:\n",
        "  print (\"-**-\"*20)\n",
        "  print (country)\n",
        "  print ('2012 average trust: {}'.format(country_rate['happy'][(country_rate['cntry'] == country) & (country_rate['year']==6)].mean()))\n",
        "  print ('2014 average trust: {}'.format(country_rate['happy'][(country_rate['cntry'] == country) & (country_rate['year'] == 7)].mean()))\n",
        "  print (stats.ttest_rel(country_rate['ppltrst'][(country_rate['cntry'] == country) & (country_rate['year']==6)], \n",
        "                          country_rate['ppltrst'][(country_rate['cntry'] == country) & (country_rate['year']==7)],\n",
        "                          nan_policy='omit'\n",
        "                         ))\n",
        "  print(\"\\n\")"
      ],
      "execution_count": 10,
      "outputs": [
        {
          "output_type": "stream",
          "text": [
            "-**--**--**--**--**--**--**--**--**--**--**--**--**--**--**--**--**--**--**--**-\n",
            "CH\n",
            "2012 average trust: 8.088311688311688\n",
            "2014 average trust: 8.116429495472186\n",
            "Ttest_relResult(statistic=-0.6586851756725737, pvalue=0.5102943511301135)\n",
            "\n",
            "\n",
            "-**--**--**--**--**--**--**--**--**--**--**--**--**--**--**--**--**--**--**--**-\n",
            "CZ\n",
            "2012 average trust: 6.7708978328173375\n",
            "2014 average trust: 6.914110429447852\n",
            "Ttest_relResult(statistic=-0.5001638336887216, pvalue=0.617129268240474)\n",
            "\n",
            "\n",
            "-**--**--**--**--**--**--**--**--**--**--**--**--**--**--**--**--**--**--**--**-\n",
            "DE\n",
            "2012 average trust: 7.428571428571429\n",
            "2014 average trust: 7.857142857142857\n",
            "Ttest_relResult(statistic=-0.18399501804849683, pvalue=0.8568563797095805)\n",
            "\n",
            "\n",
            "-**--**--**--**--**--**--**--**--**--**--**--**--**--**--**--**--**--**--**--**-\n",
            "ES\n",
            "2012 average trust: 7.548679867986799\n",
            "2014 average trust: 7.41996699669967\n",
            "Ttest_relResult(statistic=2.4561906976601646, pvalue=0.014181580725320284)\n",
            "\n",
            "\n",
            "-**--**--**--**--**--**--**--**--**--**--**--**--**--**--**--**--**--**--**--**-\n",
            "NO\n",
            "2012 average trust: 8.25171939477304\n",
            "2014 average trust: 7.9151846785225715\n",
            "Ttest_relResult(statistic=0.5073077081124404, pvalue=0.61209257015177)\n",
            "\n",
            "\n",
            "-**--**--**--**--**--**--**--**--**--**--**--**--**--**--**--**--**--**--**--**-\n",
            "SE\n",
            "2012 average trust: 7.907386990077177\n",
            "2014 average trust: 7.946961325966851\n",
            "Ttest_relResult(statistic=-2.0671082026033982, pvalue=0.03900781670958545)\n",
            "\n",
            "\n"
          ],
          "name": "stdout"
        }
      ]
    },
    {
      "cell_type": "markdown",
      "metadata": {
        "id": "yl-D0T0mkL3C",
        "colab_type": "text"
      },
      "source": [
        "### Did people become happier from 2012 to 2014? \n",
        "\n",
        "#### Based on the parametric and non parametric tests there is a difference between 2012 and 2014 for happiness in the Czech Republic and Spain, the rest of the countries results were too similar to use. "
      ]
    },
    {
      "cell_type": "code",
      "metadata": {
        "id": "KmlvNZ6B-kF4",
        "colab_type": "code",
        "outputId": "75a7148c-31a0-4040-8640-f0e3b955ea07",
        "colab": {
          "base_uri": "https://localhost:8080/",
          "height": 238
        }
      },
      "source": [
        "gentlemen = country_rate['tvtot'][(country_rate['gndr'] == 1.0) & (country_rate['year'] == 6)]\n",
        "ladies = country_rate['tvtot'][(country_rate['gndr'] == 2.0) & (country_rate['year'] == 6)]\n",
        "\n",
        "fig, axs = plt.subplots(1,2, figsize = (6,3))\n",
        "axs[0].hist(gentlemen.dropna())\n",
        "axs[1].hist(ladies.dropna())\n",
        "fig.text(0.5, 0, '2012 TV Total')\n",
        "axs[0].set_title('Gentlemen')\n",
        "axs[1].set_title('Ladies')\n",
        "\n",
        "plt.tight_layout()\n",
        "plt.show()"
      ],
      "execution_count": 11,
      "outputs": [
        {
          "output_type": "display_data",
          "data": {
            "image/png": "[encoded data removed]",
            "text/plain": [
              "<Figure size 432x216 with 2 Axes>"
            ]
          },
          "metadata": {
            "tags": []
          }
        }
      ]
    },
    {
      "cell_type": "code",
      "metadata": {
        "id": "Lejp8foo_ei1",
        "colab_type": "code",
        "outputId": "a56c9488-798b-48e7-e7be-0e4b9418da24",
        "colab": {
          "base_uri": "https://localhost:8080/",
          "height": 69
        }
      },
      "source": [
        "print('Gentlemen mean: {}'.format(gentlemen.mean()))\n",
        "print('Ladies mean: {}'.format(ladies.mean()))  \n",
        "print(stats.ttest_ind(gentlemen, \n",
        "                    ladies,\n",
        "                    nan_policy ='omit'\n",
        "                    ))"
      ],
      "execution_count": 12,
      "outputs": [
        {
          "output_type": "stream",
          "text": [
            "Gentlemen mean: 3.901906090190609\n",
            "Ladies mean: 3.944392523364486\n",
            "Ttest_indResult(statistic=-0.6899928109209502, pvalue=0.49023604027095813)\n"
          ],
          "name": "stdout"
        }
      ]
    },
    {
      "cell_type": "markdown",
      "metadata": {
        "id": "Jf7a9Djkl2zM",
        "colab_type": "text"
      },
      "source": [
        "### Who reported watching more TV in 2012, men or women?\n",
        "\n",
        "#### There was no signifigant difference in 2012 between men and women watching more TV.  Our p-value also is telling us that it is likely that our sampling was not sufficient to provide reliable results in this area. "
      ]
    },
    {
      "cell_type": "code",
      "metadata": {
        "id": "crX9XKHGBJJy",
        "colab_type": "code",
        "outputId": "c95d51a3-3f92-41a9-997a-c0295d466f11",
        "colab": {
          "base_uri": "https://localhost:8080/",
          "height": 238
        }
      },
      "source": [
        "partner = country_rate['pplfair'][(country_rate['partner'] == 1.0) & (country_rate['year'] == 6)]\n",
        "alone = country_rate['pplfair'][(country_rate['partner'] == 2.0) & (country_rate['year'] == 6)]\n",
        "\n",
        "fig, axs = plt.subplots(1,2, figsize = (6,3))\n",
        "axs[0].hist(partner.dropna())\n",
        "axs[1].hist(alone.dropna())\n",
        "fig.text(0.5, 0, '2012 Fairness')\n",
        "axs[0].set_title('partner')\n",
        "axs[1].set_title('alone')\n",
        "\n",
        "plt.tight_layout()\n",
        "plt.show()"
      ],
      "execution_count": 13,
      "outputs": [
        {
          "output_type": "display_data",
          "data": {
            "image/png": "[encoded data removed]",
            "text/plain": [
              "<Figure size 432x216 with 2 Axes>"
            ]
          },
          "metadata": {
            "tags": []
          }
        }
      ]
    },
    {
      "cell_type": "code",
      "metadata": {
        "id": "2fogCpzaC79Z",
        "colab_type": "code",
        "outputId": "4a59b3d5-09f8-4a0e-d5ca-96ddbd325666",
        "colab": {
          "base_uri": "https://localhost:8080/",
          "height": 69
        }
      },
      "source": [
        "print('Average fairness if living with partner: {}'.format(partner.mean()))\n",
        "print('Average fairness if lining alone: {}'.format(alone.mean()))\n",
        "print(stats.ttest_ind(partner, alone, nan_policy = 'omit'))"
      ],
      "execution_count": 16,
      "outputs": [
        {
          "output_type": "stream",
          "text": [
            "Average fairness if living with partner: 6.080736012016523\n",
            "Average fairness if lining alone: 5.856965174129353\n",
            "Ttest_indResult(statistic=3.3201033970362084, pvalue=0.0009073952609876207)\n"
          ],
          "name": "stdout"
        }
      ]
    },
    {
      "cell_type": "markdown",
      "metadata": {
        "id": "hRJZaPfZmstZ",
        "colab_type": "text"
      },
      "source": [
        "### Who was more likely to believe people were fair in 2012, people living with a partner or people living alone?\n",
        "\n",
        "#### The data indicates living with a partner in 2012 made individuals rate the fairness of others slightly higher"
      ]
    },
    {
      "cell_type": "code",
      "metadata": {
        "id": "R-nKx3raDgBc",
        "colab_type": "code",
        "outputId": "e8423cfe-d4f2-4470-a37a-59538ea9edb0",
        "colab": {
          "base_uri": "https://localhost:8080/",
          "height": 34
        }
      },
      "source": [
        "social = cntrys[:4]\n",
        "print(social)"
      ],
      "execution_count": 17,
      "outputs": [
        {
          "output_type": "stream",
          "text": [
            "['CH', 'CZ', 'DE', 'ES']\n"
          ],
          "name": "stdout"
        }
      ]
    },
    {
      "cell_type": "code",
      "metadata": {
        "id": "1g7dN9bJEdwY",
        "colab_type": "code",
        "colab": {}
      },
      "source": [
        "ch_meet = country_rate['sclmeet'][(country_rate['cntry'] == 'CH') & (country_rate['year'] ==7)].dropna()\n",
        "cz_meet = country_rate['sclmeet'][(country_rate['cntry'] == 'CZ') & (country_rate['year'] ==7)].dropna()\n",
        "de_meet = country_rate['sclmeet'][(country_rate['cntry'] == 'DE') & (country_rate['year'] ==7)].dropna()\n",
        "es_meet = country_rate['sclmeet'][(country_rate['cntry'] == 'ES') & (country_rate['year'] ==7)].dropna()"
      ],
      "execution_count": 0,
      "outputs": []
    },
    {
      "cell_type": "code",
      "metadata": {
        "id": "JLXYPtAlFpwu",
        "colab_type": "code",
        "outputId": "3e7d8ef0-7763-4e1d-ab2d-2309c81a94e4",
        "colab": {
          "base_uri": "https://localhost:8080/",
          "height": 244
        }
      },
      "source": [
        "fig, axs = plt.subplots(1,4, figsize = (6,3))\n",
        "\n",
        "axs[0].hist(ch_meet)\n",
        "axs[1].hist(cz_meet)\n",
        "axs[2].hist(de_meet)\n",
        "axs[3].hist(es_meet)\n",
        "\n",
        "fig.text(0.25, 1, '2014 total meetups with friends')\n",
        "\n",
        "axs[0].set_title('CH')\n",
        "axs[1].set_title('CZ')\n",
        "axs[2].set_title('DE')\n",
        "axs[3].set_title('ES')\n",
        "plt.tight_layout()\n",
        "plt.show()\n"
      ],
      "execution_count": 19,
      "outputs": [
        {
          "output_type": "display_data",
          "data": {
            "image/png": "[encoded data removed]",
            "text/plain": [
              "<Figure size 432x216 with 4 Axes>"
            ]
          },
          "metadata": {
            "tags": []
          }
        }
      ]
    },
    {
      "cell_type": "code",
      "metadata": {
        "id": "CuCxlz8uGV4U",
        "colab_type": "code",
        "outputId": "d2ba69f1-26b2-40d4-8b31-e787d9bd40cd",
        "colab": {
          "base_uri": "https://localhost:8080/",
          "height": 244
        }
      },
      "source": [
        "fig, axs = plt.subplots(1, 4, figsize=(6, 3))\n",
        "\n",
        "axs[0].boxplot(ch_meet)\n",
        "axs[1].boxplot(cz_meet)\n",
        "axs[2].boxplot(de_meet)\n",
        "axs[3].boxplot(es_meet)\n",
        "\n",
        "fig.text(0.25, 1, '2014 total meetups with friends')\n",
        "axs[0].set_title('CH')\n",
        "axs[1].set_title('CZ')\n",
        "axs[2].set_title('DE')\n",
        "axs[3].set_title('ES')\n",
        "plt.tight_layout()\n",
        "plt.show()"
      ],
      "execution_count": 20,
      "outputs": [
        {
          "output_type": "display_data",
          "data": {
            "image/png": "[encoded data removed]",
            "text/plain": [
              "<Figure size 432x216 with 4 Axes>"
            ]
          },
          "metadata": {
            "tags": []
          }
        }
      ]
    },
    {
      "cell_type": "code",
      "metadata": {
        "id": "NzyInaJ-HtJV",
        "colab_type": "code",
        "outputId": "5cf16af8-3930-4197-ccc0-62d7e2a3a232",
        "colab": {
          "base_uri": "https://localhost:8080/",
          "height": 52
        }
      },
      "source": [
        "\n",
        "F, p = stats.f_oneway(ch_meet, cz_meet, de_meet, es_meet)\n",
        "print('F statistic:', F, '\\np-value:', p)"
      ],
      "execution_count": 21,
      "outputs": [
        {
          "output_type": "stream",
          "text": [
            "F statistic: 50.269684739366305 \n",
            "p-value: 1.357986438585725e-31\n"
          ],
          "name": "stdout"
        }
      ]
    },
    {
      "cell_type": "code",
      "metadata": {
        "id": "LfRmaNLgIJlc",
        "colab_type": "code",
        "outputId": "2e51b6bc-eeac-469a-a11f-54aad1ea2b64",
        "colab": {
          "base_uri": "https://localhost:8080/",
          "height": 87
        }
      },
      "source": [
        "print('Average number of meetups with friends for CH: {} ({} total meetups)'.format(ch_meet.mean(),ch_meet.count()))\n",
        "print('Average number of meetups with friends for CZ: {} ({} total meetups)'.format(cz_meet.mean(),cz_meet.count()))\n",
        "print('Average number of meetups with friends for DE: {} ({} total meetups)'.format(de_meet.mean(),de_meet.count()))\n",
        "print('Average number of meetups with friends for ES: {} ({} total meetups)'.format(es_meet.mean(),es_meet.count()))\n",
        "\n",
        "\n",
        "\n",
        "    \n",
        "    "
      ],
      "execution_count": 22,
      "outputs": [
        {
          "output_type": "stream",
          "text": [
            "Average number of meetups with friends for CH: 5.160621761658031 (772 total meetups)\n",
            "Average number of meetups with friends for CZ: 4.445801526717557 (655 total meetups)\n",
            "Average number of meetups with friends for DE: 4.428571428571429 (14 total meetups)\n",
            "Average number of meetups with friends for ES: 5.2601156069364166 (1211 total meetups)\n"
          ],
          "name": "stdout"
        }
      ]
    },
    {
      "cell_type": "code",
      "metadata": {
        "id": "f4EJFmfVM6iT",
        "colab_type": "code",
        "outputId": "6413b53e-37ae-4297-aabe-07bee22a778e",
        "colab": {
          "base_uri": "https://localhost:8080/",
          "height": 332
        }
      },
      "source": [
        "print('comparing CH and CZ:\\n{}\\n'.format(stats.ttest_ind(ch_meet,cz_meet)))\n",
        "print('comparing CH and DE:\\n{}\\n'.format(stats.ttest_ind(ch_meet,de_meet)))\n",
        "print('comparing CH and ES:\\n{}\\n'.format(stats.ttest_ind(ch_meet,es_meet)))\n",
        "print('comparing CZ and DE:\\n{}\\n'.format(stats.ttest_ind(cz_meet,de_meet)))\n",
        "print('comparing CZ and ES:\\n{}\\n'.format(stats.ttest_ind(cz_meet,es_meet)))\n",
        "print('comparing DE and ES:\\n{}\\n'.format(stats.ttest_ind(de_meet,es_meet)))"
      ],
      "execution_count": 23,
      "outputs": [
        {
          "output_type": "stream",
          "text": [
            "comparing CH and CZ:\n",
            "Ttest_indResult(statistic=9.675850699914886, pvalue=1.7204743885392493e-21)\n",
            "\n",
            "comparing CH and DE:\n",
            "Ttest_indResult(statistic=2.0861293215128325, pvalue=0.037289604714147245)\n",
            "\n",
            "comparing CH and ES:\n",
            "Ttest_indResult(statistic=-1.5343317353073618, pvalue=0.12510774525042745)\n",
            "\n",
            "comparing CZ and DE:\n",
            "Ttest_indResult(statistic=0.0433661445611368, pvalue=0.9654226437207307)\n",
            "\n",
            "comparing CZ and ES:\n",
            "Ttest_indResult(statistic=-11.400026538179093, pvalue=3.7676844407353374e-29)\n",
            "\n",
            "comparing DE and ES:\n",
            "Ttest_indResult(statistic=-2.115791799094089, pvalue=0.03456418756613026)\n",
            "\n"
          ],
          "name": "stdout"
        }
      ]
    },
    {
      "cell_type": "markdown",
      "metadata": {
        "id": "qEy50ZlNoZDd",
        "colab_type": "text"
      },
      "source": [
        "### Pick three or four of the countries in the sample and compare how often people met socially in 2014. Are there differences, and if so, which countries stand out?\n",
        "\n",
        "#### The Anova test reveal with high reliability that there are signifigant differences between Germany, Sweden, Czech Rebuplic and China.  Upon closer evaluation we can see that the Czech Republic stands out as being very different from all but Germany.  The rest of the countries are signifigantly different from each other just not as much as the Czech Republic. "
      ]
    },
    {
      "cell_type": "code",
      "metadata": {
        "colab_type": "code",
        "id": "tFbmTYoTeofp",
        "colab": {}
      },
      "source": [
        "ch_sclact = country_rate['sclact'][(country_rate['cntry'] == 'CH') & (country_rate['year'] ==7)].dropna()\n",
        "cz_sclact = country_rate['sclact'][(country_rate['cntry'] == 'CZ') & (country_rate['year'] ==7)].dropna()\n",
        "de_sclact = country_rate['sclact'][(country_rate['cntry'] == 'DE') & (country_rate['year'] ==7)].dropna()\n",
        "es_sclact = country_rate['sclact'][(country_rate['cntry'] == 'ES') & (country_rate['year'] ==7)].dropna()"
      ],
      "execution_count": 0,
      "outputs": []
    },
    {
      "cell_type": "code",
      "metadata": {
        "colab_type": "code",
        "outputId": "2b564196-9652-4979-ca37-b349bb409e73",
        "id": "g1wPYhT9eofy",
        "colab": {
          "base_uri": "https://localhost:8080/",
          "height": 244
        }
      },
      "source": [
        "fig, axs = plt.subplots(1,4, figsize = (6,3))\n",
        "\n",
        "axs[0].hist(ch_sclact)\n",
        "axs[1].hist(cz_sclact)\n",
        "axs[2].hist(de_sclact)\n",
        "axs[3].hist(es_sclact)\n",
        "\n",
        "fig.text(0.25, 1, '2014 total activities with their peers')\n",
        "\n",
        "axs[0].set_title('CH')\n",
        "axs[1].set_title('CZ')\n",
        "axs[2].set_title('DE')\n",
        "axs[3].set_title('ES')\n",
        "plt.tight_layout()\n",
        "plt.show()\n"
      ],
      "execution_count": 25,
      "outputs": [
        {
          "output_type": "display_data",
          "data": {
            "image/png": "[encoded data removed]",
            "text/plain": [
              "<Figure size 432x216 with 4 Axes>"
            ]
          },
          "metadata": {
            "tags": []
          }
        }
      ]
    },
    {
      "cell_type": "code",
      "metadata": {
        "colab_type": "code",
        "outputId": "df94de8e-6777-4d71-c2cd-2dbb1eee0fd0",
        "id": "8shWVBDNeof2",
        "colab": {
          "base_uri": "https://localhost:8080/",
          "height": 244
        }
      },
      "source": [
        "fig, axs = plt.subplots(1, 4, figsize=(6, 3))\n",
        "\n",
        "axs[0].boxplot(ch_sclact)\n",
        "axs[1].boxplot(cz_sclact)\n",
        "axs[2].boxplot(de_sclact)\n",
        "axs[3].boxplot(es_sclact)\n",
        "\n",
        "fig.text(0.25, 1, '2014 total activities with peers')\n",
        "axs[0].set_title('CH')\n",
        "axs[1].set_title('CZ')\n",
        "axs[2].set_title('DE')\n",
        "axs[3].set_title('ES')\n",
        "plt.tight_layout()\n",
        "plt.show()"
      ],
      "execution_count": 26,
      "outputs": [
        {
          "output_type": "display_data",
          "data": {
            "image/png": "[encoded data removed]",
            "text/plain": [
              "<Figure size 432x216 with 4 Axes>"
            ]
          },
          "metadata": {
            "tags": []
          }
        }
      ]
    },
    {
      "cell_type": "code",
      "metadata": {
        "colab_type": "code",
        "outputId": "91487895-a0e3-4706-c768-3dc8457a746a",
        "id": "RwaWRfiheof6",
        "colab": {
          "base_uri": "https://localhost:8080/",
          "height": 52
        }
      },
      "source": [
        "\n",
        "F, p = stats.f_oneway(ch_sclact, cz_sclact, de_sclact, es_sclact)\n",
        "print('F statistic:', F, '\\np-value:', p)"
      ],
      "execution_count": 27,
      "outputs": [
        {
          "output_type": "stream",
          "text": [
            "F statistic: 5.113009547330521 \n",
            "p-value: 0.0015796094503818428\n"
          ],
          "name": "stdout"
        }
      ]
    },
    {
      "cell_type": "code",
      "metadata": {
        "colab_type": "code",
        "outputId": "42151b98-115a-436c-a989-4c8034a5b40d",
        "id": "UUxS4Rmceof9",
        "colab": {
          "base_uri": "https://localhost:8080/",
          "height": 87
        }
      },
      "source": [
        "print('Average number of peer activities for CH: {} ({} total meetups)'.format(ch_sclact.mean(),ch_sclact.count()))\n",
        "print('Average number of peer activities for CZ: {} ({} total meetups)'.format(cz_sclact.mean(),cz_sclact.count()))\n",
        "print('Average number of peer activities for DE: {} ({} total meetups)'.format(de_sclact.mean(),de_sclact.count()))\n",
        "print('Average number of peer activities for ES: {} ({} total meetups)'.format(es_sclact.mean(),es_sclact.count()))"
      ],
      "execution_count": 28,
      "outputs": [
        {
          "output_type": "stream",
          "text": [
            "Average number of peer activities for CH: 2.7816993464052286 (765 total meetups)\n",
            "Average number of peer activities for CZ: 2.703076923076923 (650 total meetups)\n",
            "Average number of peer activities for DE: 2.7142857142857144 (14 total meetups)\n",
            "Average number of peer activities for ES: 2.6168776371308016 (1185 total meetups)\n"
          ],
          "name": "stdout"
        }
      ]
    },
    {
      "cell_type": "code",
      "metadata": {
        "colab_type": "code",
        "outputId": "d2223d33-12d2-4506-cbb0-303436d6b01a",
        "id": "8OHx-EeOeof_",
        "colab": {
          "base_uri": "https://localhost:8080/",
          "height": 332
        }
      },
      "source": [
        "print('comparing CH and CZ:\\n{}\\n'.format(stats.ttest_ind(ch_sclact,cz_sclact)))\n",
        "print('comparing CH and DE:\\n{}\\n'.format(stats.ttest_ind(ch_sclact,de_sclact)))\n",
        "print('comparing CH and ES:\\n{}\\n'.format(stats.ttest_ind(ch_sclact,es_sclact)))\n",
        "print('comparing CZ and DE:\\n{}\\n'.format(stats.ttest_ind(cz_sclact,de_sclact)))\n",
        "print('comparing CZ and ES:\\n{}\\n'.format(stats.ttest_ind(cz_sclact,es_sclact)))\n",
        "print('comparing DE and ES:\\n{}\\n'.format(stats.ttest_ind(de_sclact,es_sclact)))"
      ],
      "execution_count": 29,
      "outputs": [
        {
          "output_type": "stream",
          "text": [
            "comparing CH and CZ:\n",
            "Ttest_indResult(statistic=1.665721791943212, pvalue=0.09599050025440872)\n",
            "\n",
            "comparing CH and DE:\n",
            "Ttest_indResult(statistic=0.2746903478421981, pvalue=0.7836271662948312)\n",
            "\n",
            "comparing CH and ES:\n",
            "Ttest_indResult(statistic=3.7901178679751157, pvalue=0.00015515309017284228)\n",
            "\n",
            "comparing CZ and DE:\n",
            "Ttest_indResult(statistic=-0.04890685579084129, pvalue=0.9610082764822516)\n",
            "\n",
            "comparing CZ and ES:\n",
            "Ttest_indResult(statistic=1.9231457887987455, pvalue=0.05461649785517343)\n",
            "\n",
            "comparing DE and ES:\n",
            "Ttest_indResult(statistic=0.3809408460233457, pvalue=0.7033147402370797)\n",
            "\n"
          ],
          "name": "stdout"
        }
      ]
    },
    {
      "cell_type": "markdown",
      "metadata": {
        "id": "PHF3sR-5gk4O",
        "colab_type": "text"
      },
      "source": [
        "### Pick three or four of the countries in the sample and compare how often people took part in social activities, relative to others in their age, in 2014. Are there any differences? If so, which countries stand out?\n",
        "\n",
        "#### Based on the Anova, two country comparisons,  and the graphical respresentation of each country's distribution there are differences between the countries. Compares to the social meetup variable social activities is  The complete t-tests also reveal that there are differences in social activies between almost all but the Czech Republic and Germany.  "
      ]
    },
    {
      "cell_type": "code",
      "metadata": {
        "id": "npJdjIDuoSPM",
        "colab_type": "code",
        "colab": {}
      },
      "source": [
        ""
      ],
      "execution_count": 0,
      "outputs": []
    }
  ]
}